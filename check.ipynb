{
 "cells": [
  {
   "cell_type": "code",
   "execution_count": 9,
   "metadata": {},
   "outputs": [
    {
     "name": "stdout",
     "output_type": "stream",
     "text": [
      "Name of the picture + the data format: ex.png\n",
      "\n",
      "Prediction: 0\n"
     ]
    },
    {
     "data": {
      "image/png": "[encoded data removed]",
      "text/plain": [
       "<Figure size 432x288 with 1 Axes>"
      ]
     },
     "metadata": {
      "needs_background": "light"
     },
     "output_type": "display_data"
    }
   ],
   "source": [
    "\n",
    "import numpy as np\n",
    "import cv2\n",
    "from matplotlib import pyplot as plt\n",
    "from keras.models import load_model\n",
    "\n",
    "\n",
    "model = load_model(r\"C:\\Users\\dimet\\Desktop\\NN\\mymodel.h5\")\n",
    "\n",
    "name = r\"C:\\Users\\dimet\\Desktop\\NN\\Samples/\" + str(input(\"Name of the picture + the data format: \"))\n",
    "        \n",
    "#build in break\n",
    "        \n",
    "        \n",
    "img = cv2.imread(name, 0)\n",
    "plt.imshow(img, cmap=\"Greys\")\n",
    "res = cv2.resize(img, (28,28))\n",
    "imagem = cv2.bitwise_not(res)\n",
    "# convert the grayscale image to binary image\n",
    "    \n",
    "ret,thresh = cv2.threshold(imagem,127,255,0)\n",
    "\n",
    "# calculate moments of binary image\n",
    "M = cv2.moments(thresh)\n",
    "# calculate x,y coordinate of center\n",
    "cX = int(M[\"m10\"] / M[\"m00\"])\n",
    "cY = int(M[\"m01\"] / M[\"m00\"])\n",
    "\n",
    "row, col = imagem.shape[:2]\n",
    "vx = (cX - (int(row) / 2)) * (-1)\n",
    "vy = (cY - (int(col) / 2)) * (-1)\n",
    "M = np.float32([[1, 0, vx], \n",
    "                        [0, 1, vy]]) \n",
    "res = cv2.warpAffine(imagem, M, (col, row)) \n",
    "\n",
    "#plt.imshow(res, cmap=\"Greys\")\n",
    "\n",
    "#plt.imshow(imagem, cmap=\"Greys\")\n",
    "img_a = res / 255.00\n",
    "\n",
    "img_b = np.reshape(img_a, (1,28,28,1))\n",
    "\n",
    "\n",
    "a = model.predict(img_b)\n",
    "\n",
    "\n",
    "b = np.argmax(a)\n",
    "print(\"\\nPrediction: \" + str(b))"
   ]
  },
  {
   "cell_type": "code",
   "execution_count": null,
   "metadata": {},
   "outputs": [],
   "source": []
  }
 ],
 "metadata": {
  "kernelspec": {
   "display_name": "Python 3",
   "language": "python",
   "name": "python3"
  }
 },
 "nbformat": 4,
 "nbformat_minor": 2
}
